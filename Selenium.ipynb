{
 "cells": [
  {
   "cell_type": "code",
   "execution_count": 13,
   "metadata": {},
   "outputs": [],
   "source": [
    "from selenium import webdriver\n",
    "from selenium.webdriver.common.keys import Keys\n",
    "from selenium.webdriver.support.ui import Select\n",
    "from selenium.webdriver.support.ui import WebDriverWait\n",
    "from selenium.webdriver.support import expected_conditions as ec\n",
    "from selenium.webdriver.common.by import By\n",
    "from selenium.webdriver.chrome.options import Options\n",
    "import time\n",
    "from pymongo import MongoClient"
   ]
  },
  {
   "cell_type": "code",
   "execution_count": 14,
   "metadata": {},
   "outputs": [
    {
     "name": "stdout",
     "output_type": "stream",
     "text": [
      "list index out of range\n"
     ]
    }
   ],
   "source": [
    "client = MongoClient('localhost', 27017)\n",
    "db = client['BD2']\n",
    "mails = db.mails\n",
    "\n",
    "chrome_options = Options()\n",
    "chrome_options.add_argument('start-maximized')\n",
    "\n",
    "driver = webdriver.Chrome(options=chrome_options)\n",
    "driver.get('https://mail.yandex.ru/')\n",
    "\n",
    "button = WebDriverWait(driver, 10).until(\n",
    "    EC.element_to_be_clickable((By.CLASS_NAME, 'button2_theme_mail-white')))\n",
    "button.click()\n",
    "\n",
    "assert \"Авторизация\" in driver.title\n",
    "elem = driver.find_element_by_id('passp-field-login')\n",
    "elem.send_keys('') #Здесь должен быть логин\n",
    "elem.send_keys(Keys.RETURN)\n",
    "time.sleep(2)\n",
    "elem = driver.find_element_by_id('passp-field-passwd')\n",
    "elem.send_keys('')\n",
    "elem.send_keys(Keys.RETURN)\n",
    "time.sleep(3)\n",
    "\n",
    "\n",
    "# # WebDriverWait(driver,10).until(\n",
    "# #             EC.element_to_be_clickable((By.CLASS_NAME, 'js-href b-datalist__item__link')))\n",
    "assert \"Входящие\" in driver.title\n",
    "i = 0\n",
    "while True:\n",
    "    try:\n",
    "        dict_of_data = {}\n",
    "        froms = driver.find_elements_by_class_name('ns-view-messages-item-wrap')\n",
    "        froms[i].click()\n",
    "        time.sleep(2)\n",
    "        sender = driver.find_element_by_class_name('mail-ui-HoverLink-Content').get_attribute('title')\n",
    "        date = driver.find_element_by_class_name('ns-view-message-head-date').text\n",
    "        subject = driver.find_element_by_class_name('mail-Message-Toolbar-Subject').text\n",
    "        driver.back()\n",
    "        time.sleep(2)\n",
    "        dict_of_data['sender'] = sender\n",
    "        dict_of_data['date'] = date\n",
    "        dict_of_data['subject'] = subject\n",
    "        mails.insert_one(dict_of_data)\n",
    "        i += 1\n",
    "    except Exception as e:\n",
    "        print(e)\n",
    "        break"
   ]
  }
 ],
 "metadata": {
  "kernelspec": {
   "display_name": "Python 3",
   "language": "python",
   "name": "python3"
  },
  "language_info": {
   "codemirror_mode": {
    "name": "ipython",
    "version": 3
   },
   "file_extension": ".py",
   "mimetype": "text/x-python",
   "name": "python",
   "nbconvert_exporter": "python",
   "pygments_lexer": "ipython3",
   "version": "3.7.0"
  }
 },
 "nbformat": 4,
 "nbformat_minor": 2
}
