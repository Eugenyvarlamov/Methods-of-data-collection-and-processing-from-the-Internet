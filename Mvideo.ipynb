{
 "cells": [
  {
   "cell_type": "code",
   "execution_count": 1,
   "metadata": {},
   "outputs": [],
   "source": [
    "from selenium import webdriver\n",
    "from selenium.webdriver.common.keys import Keys\n",
    "from selenium.webdriver.support.ui import Select\n",
    "from selenium.webdriver.support.ui import WebDriverWait\n",
    "from selenium.webdriver.support import expected_conditions as ec\n",
    "from selenium.webdriver.common.by import By\n",
    "from selenium.webdriver.chrome.options import Options\n",
    "import time\n",
    "from pymongo import MongoClient"
   ]
  },
  {
   "cell_type": "code",
   "execution_count": 28,
   "metadata": {},
   "outputs": [],
   "source": [
    "client = MongoClient('localhost', 27017)\n",
    "db = client['BD2']\n",
    "hits = db.sales_hits\n",
    "\n",
    "def write_to_mongo(elems):\n",
    "    for elem in elems:\n",
    "        name = elem.find_element_by_class_name('sel-product-tile-title').text\n",
    "        price = elem.find_element_by_class_name('c-pdp-price__current').text\n",
    "        hits.insert_one({'name':name, 'price':price})\n",
    "\n",
    "chrome_options = Options()\n",
    "chrome_options.add_argument('start-maximized')\n",
    "\n",
    "driver = webdriver.Chrome(options=chrome_options)\n",
    "driver.get('https://www.mvideo.ru/')\n",
    "\n",
    "block = driver.find_element_by_class_name('sel-hits-block')\n",
    "elems = block.find_elements_by_class_name('gallery-list-item')\n",
    "write_to_mongo(elems)\n",
    "\n",
    "buttons = block.find_element_by_class_name('carousel-paging').find_elements_by_tag_name('a')[1:]\n",
    "for button in buttons:\n",
    "    button.click()\n",
    "    time.sleep(2)\n",
    "    block = driver.find_element_by_class_name('sel-hits-block')\n",
    "    elems = block.find_elements_by_class_name('gallery-list-item')[:4]\n",
    "    write_to_mongo(elems)"
   ]
  }
 ],
 "metadata": {
  "kernelspec": {
   "display_name": "Python 3",
   "language": "python",
   "name": "python3"
  },
  "language_info": {
   "codemirror_mode": {
    "name": "ipython",
    "version": 3
   },
   "file_extension": ".py",
   "mimetype": "text/x-python",
   "name": "python",
   "nbconvert_exporter": "python",
   "pygments_lexer": "ipython3",
   "version": "3.7.0"
  }
 },
 "nbformat": 4,
 "nbformat_minor": 2
}
